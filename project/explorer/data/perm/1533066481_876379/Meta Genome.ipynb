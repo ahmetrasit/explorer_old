{
 "cells": [
  {
   "cell_type": "code",
   "execution_count": 1,
   "metadata": {},
   "outputs": [],
   "source": [
    "import pandas as pd\n",
    "import time\n",
    "import numpy as np"
   ]
  },
  {
   "cell_type": "code",
   "execution_count": 12,
   "metadata": {},
   "outputs": [],
   "source": [
    "gff3_source = 'c_elegans.PRJNA13758.WS262.annotations.gff3'\n",
    "genomicFa_source = 'c_elegans.PRJNA13758.WS262.genomic.fa'\n"
   ]
  },
  {
   "cell_type": "code",
   "execution_count": 3,
   "metadata": {},
   "outputs": [],
   "source": [
    "def readAnnotations(csv): \n",
    "    read = pd.read_csv(csv, header=None, sep='\\t',skiprows=8)\n",
    "    wormbase = read[(read[1]=='WormBase')].reset_index(drop=True)\n",
    "    wormbase [\"alias\"] = wormbase [8].map(lambda x: nameFinder(x))\n",
    "    return wormbase"
   ]
  },
  {
   "cell_type": "code",
   "execution_count": 4,
   "metadata": {},
   "outputs": [],
   "source": [
    "def proteinCodingAlias (gff3_pd):\n",
    "    gff3_pd['protein_coding'] = gff3_pd[8].map(lambda x: 'protein_coding' in x)\n",
    "    gff3_pd = gff3_pd[gff3_pd['protein_coding']==True]\n",
    "    return gff3_pd.alias.unique()\n"
   ]
  },
  {
   "cell_type": "code",
   "execution_count": 5,
   "metadata": {},
   "outputs": [],
   "source": [
    "def nameFinder(row):\n",
    "    temp = row.replace(',',';').split(';')\n",
    "    for i in temp:\n",
    "        if \"Transcript\" in i:\n",
    "            return i.split(\":\")[1]\n",
    "        elif \"sequence_name\" in i:\n",
    "            return i.split(\"=\")[1]\n",
    "        elif \"Alias\" in i:\n",
    "            return i\n",
    "        "
   ]
  },
  {
   "cell_type": "code",
   "execution_count": 6,
   "metadata": {},
   "outputs": [],
   "source": [
    "def readGenomicTxt(file):\n",
    "    with open(file,'r') as fa:\n",
    "        genom = ''.join([line.rstrip('\\n').strip('IVXM') for line in fa])\n",
    "        return genom.split('>')\n",
    "    "
   ]
  },
  {
   "cell_type": "code",
   "execution_count": 7,
   "metadata": {},
   "outputs": [],
   "source": [
    "def RC(seq):\n",
    "    replacements = {\"A\": \"T\", \"T\": \"A\",\"G\": \"C\",\"C\": \"G\",}\n",
    "    seq = \"\".join([replacements.get(c, c) for c in seq])[::-1]\n",
    "    return seq\n"
   ]
  },
  {
   "cell_type": "code",
   "execution_count": 8,
   "metadata": {},
   "outputs": [],
   "source": [
    "def readSources ( gff3_csv, genomicFa_csv):\n",
    "    t = time.time()\n",
    "    newbase = readAnnotations(gff3_csv)\n",
    "    genomicFa = readGenomicTxt(genomicFa_csv)\n",
    "    uniquePC_Alias = proteinCodingAlias(newbase)\n",
    "    newbase = newbase[(newbase[2]=='CDS') | (newbase[2]=='three_prime_UTR') | (newbase[2]=='five_prime_UTR')]\n",
    "    genomicDict = { 'I' : genomicFa[1],\n",
    "                    'II' : genomicFa[2],\n",
    "                    'III' : genomicFa[3],\n",
    "                    'IV' : genomicFa[4],\n",
    "                    'V' : genomicFa[5],\n",
    "                    'X' : genomicFa[6],\n",
    "                    'MtDNA' : genomicFa[7][5:]\n",
    "                  }\n",
    "    print( \"readSources takes\" ,  round(time.time() - t), ' sec')\n",
    "    return [newbase,genomicFa,uniquePC_Alias,genomicDict]\n"
   ]
  },
  {
   "cell_type": "code",
   "execution_count": 9,
   "metadata": {},
   "outputs": [],
   "source": [
    "def metaGenome(gff3Data,uniqueAlias,genomic_Dict):\n",
    "    t = time.time()\n",
    "    metaGenome = []\n",
    "    for i in range(0,len(uniqueAlias)):#len(uniqueAlias)\n",
    "        alias = uniqueAlias[i]\n",
    "        aliasBase = gff3Data[gff3Data['alias']==alias]\n",
    "        seq = \"\"\n",
    "        if(len(aliasBase)>1):\n",
    "            x = aliasBase.T.values\n",
    "            aliasStart = x[3]\n",
    "            aliasEnd = x[4]\n",
    "            aliasChr = x[0][0]\n",
    "            if(x[6][0]=='+'):\n",
    "                for i in range(0,len(aliasStart)):\n",
    "                    seq = seq + genomicDict[aliasChr][aliasStart[i]-1:aliasEnd[i]]\n",
    "            else:\n",
    "                for i in reversed(range(len(aliasStart))):\n",
    "                    seq = seq + RC(genomicDict[aliasChr][aliasStart[i]-1:aliasEnd[i]])\n",
    "            metaGenome.append(\">\"+alias+'\\n'+ seq) \n",
    "    f = open('metaGenome.fa', 'w')\n",
    "    f.write('\\n'.join(metaGenome))\n",
    "    f.close()\n",
    "    \n",
    "    print( \"metaGenome takes\" ,  round(time.time() - t), ' sec')\n",
    "    "
   ]
  },
  {
   "cell_type": "code",
   "execution_count": 13,
   "metadata": {},
   "outputs": [
    {
     "name": "stdout",
     "output_type": "stream",
     "text": [
      "readSources takes 38  sec\n"
     ]
    }
   ],
   "source": [
    "newbase,genomicFa,uniquePC_Alias,genomicDict = readSources(gff3_source,genomicFa_source)"
   ]
  },
  {
   "cell_type": "code",
   "execution_count": null,
   "metadata": {},
   "outputs": [],
   "source": [
    "metaGenome(newbase,uniquePC_Alias,genomicDict)\n"
   ]
  },
  {
   "cell_type": "code",
   "execution_count": null,
   "metadata": {},
   "outputs": [],
   "source": []
  }
 ],
 "metadata": {
  "kernelspec": {
   "display_name": "Python 3",
   "language": "python",
   "name": "python3"
  },
  "language_info": {
   "codemirror_mode": {
    "name": "ipython",
    "version": 3
   },
   "file_extension": ".py",
   "mimetype": "text/x-python",
   "name": "python",
   "nbconvert_exporter": "python",
   "pygments_lexer": "ipython3",
   "version": "3.6.5"
  }
 },
 "nbformat": 4,
 "nbformat_minor": 2
}
